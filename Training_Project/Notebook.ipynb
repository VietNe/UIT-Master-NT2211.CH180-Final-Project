{
 "cells": [
  {
   "cell_type": "code",
   "execution_count": 1,
   "metadata": {
    "colab": {
     "base_uri": "https://localhost:8080/"
    },
    "executionInfo": {
     "elapsed": 39139,
     "status": "ok",
     "timestamp": 1734403512479,
     "user": {
      "displayName": "Huyen Ngoc Nguyen",
      "userId": "15479791066207093999"
     },
     "user_tz": -420
    },
    "id": "xVkQmKSWA56t",
    "outputId": "bad54ee7-fb97-4e9f-f3a9-e2ab63590ade"
   },
   "outputs": [
    {
     "name": "stdout",
     "output_type": "stream",
     "text": [
      "Drive already mounted at /content/drive; to attempt to forcibly remount, call drive.mount(\"/content/drive\", force_remount=True).\n"
     ]
    }
   ],
   "source": [
    "from google.colab import drive\n",
    "drive.mount('/content/drive')"
   ]
  },
  {
   "cell_type": "code",
   "execution_count": 2,
   "metadata": {
    "colab": {
     "base_uri": "https://localhost:8080/"
    },
    "executionInfo": {
     "elapsed": 12305,
     "status": "ok",
     "timestamp": 1734403524779,
     "user": {
      "displayName": "Huyen Ngoc Nguyen",
      "userId": "15479791066207093999"
     },
     "user_tz": -420
    },
    "id": "WQxP-1RFOd-E",
    "outputId": "155f54af-5801-4aa1-e9c6-8042e2385afc"
   },
   "outputs": [
    {
     "name": "stdout",
     "output_type": "stream",
     "text": [
      "Requirement already satisfied: xgboost in /usr/local/lib/python3.10/dist-packages (2.1.3)\n",
      "Collecting optuna\n",
      "  Downloading optuna-4.1.0-py3-none-any.whl.metadata (16 kB)\n",
      "Requirement already satisfied: numpy in /usr/local/lib/python3.10/dist-packages (from xgboost) (1.26.4)\n",
      "Requirement already satisfied: nvidia-nccl-cu12 in /usr/local/lib/python3.10/dist-packages (from xgboost) (2.23.4)\n",
      "Requirement already satisfied: scipy in /usr/local/lib/python3.10/dist-packages (from xgboost) (1.13.1)\n",
      "Collecting alembic>=1.5.0 (from optuna)\n",
      "  Downloading alembic-1.14.0-py3-none-any.whl.metadata (7.4 kB)\n",
      "Collecting colorlog (from optuna)\n",
      "  Downloading colorlog-6.9.0-py3-none-any.whl.metadata (10 kB)\n",
      "Requirement already satisfied: packaging>=20.0 in /usr/local/lib/python3.10/dist-packages (from optuna) (24.2)\n",
      "Requirement already satisfied: sqlalchemy>=1.4.2 in /usr/local/lib/python3.10/dist-packages (from optuna) (2.0.36)\n",
      "Requirement already satisfied: tqdm in /usr/local/lib/python3.10/dist-packages (from optuna) (4.66.6)\n",
      "Requirement already satisfied: PyYAML in /usr/local/lib/python3.10/dist-packages (from optuna) (6.0.2)\n",
      "Collecting Mako (from alembic>=1.5.0->optuna)\n",
      "  Downloading Mako-1.3.8-py3-none-any.whl.metadata (2.9 kB)\n",
      "Requirement already satisfied: typing-extensions>=4 in /usr/local/lib/python3.10/dist-packages (from alembic>=1.5.0->optuna) (4.12.2)\n",
      "Requirement already satisfied: greenlet!=0.4.17 in /usr/local/lib/python3.10/dist-packages (from sqlalchemy>=1.4.2->optuna) (3.1.1)\n",
      "Requirement already satisfied: MarkupSafe>=0.9.2 in /usr/local/lib/python3.10/dist-packages (from Mako->alembic>=1.5.0->optuna) (3.0.2)\n",
      "Downloading optuna-4.1.0-py3-none-any.whl (364 kB)\n",
      "\u001b[2K   \u001b[90m━━━━━━━━━━━━━━━━━━━━━━━━━━━━━━━━━━━━━━━━\u001b[0m \u001b[32m364.4/364.4 kB\u001b[0m \u001b[31m6.6 MB/s\u001b[0m eta \u001b[36m0:00:00\u001b[0m\n",
      "\u001b[?25hDownloading alembic-1.14.0-py3-none-any.whl (233 kB)\n",
      "\u001b[2K   \u001b[90m━━━━━━━━━━━━━━━━━━━━━━━━━━━━━━━━━━━━━━━━\u001b[0m \u001b[32m233.5/233.5 kB\u001b[0m \u001b[31m10.3 MB/s\u001b[0m eta \u001b[36m0:00:00\u001b[0m\n",
      "\u001b[?25hDownloading colorlog-6.9.0-py3-none-any.whl (11 kB)\n",
      "Downloading Mako-1.3.8-py3-none-any.whl (78 kB)\n",
      "\u001b[2K   \u001b[90m━━━━━━━━━━━━━━━━━━━━━━━━━━━━━━━━━━━━━━━━\u001b[0m \u001b[32m78.6/78.6 kB\u001b[0m \u001b[31m6.0 MB/s\u001b[0m eta \u001b[36m0:00:00\u001b[0m\n",
      "\u001b[?25hInstalling collected packages: Mako, colorlog, alembic, optuna\n",
      "Successfully installed Mako-1.3.8 alembic-1.14.0 colorlog-6.9.0 optuna-4.1.0\n"
     ]
    }
   ],
   "source": [
    "pip install xgboost optuna"
   ]
  },
  {
   "cell_type": "code",
   "execution_count": 3,
   "metadata": {
    "executionInfo": {
     "elapsed": 12056,
     "status": "ok",
     "timestamp": 1734403536826,
     "user": {
      "displayName": "Huyen Ngoc Nguyen",
      "userId": "15479791066207093999"
     },
     "user_tz": -420
    },
    "id": "MYcEopCSMtA-"
   },
   "outputs": [],
   "source": [
    "import pandas as pd\n",
    "import numpy as np\n",
    "import matplotlib.pyplot as plt\n",
    "from sklearn.model_selection import train_test_split\n",
    "from sklearn.ensemble import RandomForestClassifier\n",
    "from sklearn.metrics import classification_report, accuracy_score\n",
    "from sklearn.impute import SimpleImputer\n",
    "from sklearn.preprocessing import LabelEncoder, StandardScaler\n",
    "from sklearn.model_selection import GridSearchCV\n",
    "from xgboost import XGBClassifier\n",
    "from sklearn.ensemble import RandomForestClassifier\n",
    "import joblib\n",
    "import optuna\n"
   ]
  },
  {
   "cell_type": "markdown",
   "metadata": {
    "id": "L-3uLGcxpJiA"
   },
   "source": [
    "Import Dataset: Since the first column is ID, it is not included in the training data. The ID column will be removed from X as it is not meaningful for training the model."
   ]
  },
  {
   "cell_type": "code",
   "execution_count": 4,
   "metadata": {
    "executionInfo": {
     "elapsed": 34626,
     "status": "ok",
     "timestamp": 1734403571446,
     "user": {
      "displayName": "Huyen Ngoc Nguyen",
      "userId": "15479791066207093999"
     },
     "user_tz": -420
    },
    "id": "YlSx_JTjQ2wr"
   },
   "outputs": [],
   "source": [
    "dataset = pd.read_csv('/content/drive/MyDrive/Colab Notebooks/train.csv')\n",
    "X = dataset.iloc[:, 1:-1].values\n",
    "Y = dataset.iloc[:, -1].values"
   ]
  },
  {
   "cell_type": "markdown",
   "metadata": {
    "id": "AXqUqNTCpOZZ"
   },
   "source": [
    "Handle missing data: Use mean to fill in missing data"
   ]
  },
  {
   "cell_type": "code",
   "execution_count": 5,
   "metadata": {
    "executionInfo": {
     "elapsed": 2850,
     "status": "ok",
     "timestamp": 1734403574292,
     "user": {
      "displayName": "Huyen Ngoc Nguyen",
      "userId": "15479791066207093999"
     },
     "user_tz": -420
    },
    "id": "rOlQo8VfaBPC"
   },
   "outputs": [],
   "source": [
    "from sklearn.impute import SimpleImputer\n",
    "imputer = SimpleImputer(missing_values=np.nan, strategy='mean')\n",
    "imputer.fit(X[:,1:47])\n",
    "X[:, 1:47] = imputer.transform(X[:, 1:47])"
   ]
  },
  {
   "cell_type": "markdown",
   "metadata": {
    "id": "1SmiIGfhug05"
   },
   "source": [
    "Encoding the Dependent Variable: Convert data to numerical format because XGBoost works with numbers"
   ]
  },
  {
   "cell_type": "code",
   "execution_count": 6,
   "metadata": {
    "executionInfo": {
     "elapsed": 530,
     "status": "ok",
     "timestamp": 1734403574818,
     "user": {
      "displayName": "Huyen Ngoc Nguyen",
      "userId": "15479791066207093999"
     },
     "user_tz": -420
    },
    "id": "eRKsRB0RugBI"
   },
   "outputs": [],
   "source": [
    "\n",
    "from sklearn.preprocessing import LabelEncoder\n",
    "le = LabelEncoder()\n",
    "Y = le.fit_transform(Y)\n"
   ]
  },
  {
   "cell_type": "markdown",
   "metadata": {
    "id": "zXwUc0aguxn1"
   },
   "source": [
    "Splitting the dataset into the Training set and Test set"
   ]
  },
  {
   "cell_type": "code",
   "execution_count": 7,
   "metadata": {
    "executionInfo": {
     "elapsed": 1606,
     "status": "ok",
     "timestamp": 1734403576422,
     "user": {
      "displayName": "Huyen Ngoc Nguyen",
      "userId": "15479791066207093999"
     },
     "user_tz": -420
    },
    "id": "WGqETGVCu3iw"
   },
   "outputs": [],
   "source": [
    "from sklearn.model_selection import train_test_split\n",
    "X_train, X_test, y_train, y_test = train_test_split(X, Y, test_size = 0.2, random_state = 1)"
   ]
  },
  {
   "cell_type": "markdown",
   "metadata": {
    "id": "-DURPjrStjt_"
   },
   "source": [
    "Standardize Data: Normalize each feature to have the same scale"
   ]
  },
  {
   "cell_type": "code",
   "execution_count": 8,
   "metadata": {
    "executionInfo": {
     "elapsed": 1731,
     "status": "ok",
     "timestamp": 1734403578151,
     "user": {
      "displayName": "Huyen Ngoc Nguyen",
      "userId": "15479791066207093999"
     },
     "user_tz": -420
    },
    "id": "lNmrmTeVvAjy"
   },
   "outputs": [],
   "source": [
    "from sklearn.preprocessing import StandardScaler\n",
    "sc = StandardScaler()\n",
    "X_train = sc.fit_transform(X_train)\n",
    "X_test = sc.transform(X_test)"
   ]
  },
  {
   "cell_type": "markdown",
   "metadata": {
    "id": "k8NbNGgISVp2"
   },
   "source": [
    "Hyperparameter tuning, this part is tuned on Kaggle https://www.kaggle.com/code/huyenngocnguyenuit/file-train-mont4"
   ]
  },
  {
   "cell_type": "code",
   "execution_count": null,
   "metadata": {},
   "outputs": [],
   "source": []
  },
  {
   "cell_type": "code",
   "execution_count": null,
   "metadata": {
    "colab": {
     "base_uri": "https://localhost:8080/"
    },
    "id": "6equ94eTSRV5",
    "outputId": "2ad156fe-28bd-40a0-de17-edb21c7d43bf"
   },
   "outputs": [
    {
     "name": "stderr",
     "output_type": "stream",
     "text": [
      "[I 2024-12-16 04:13:54,653] A new study created in memory with name: no-name-530e78f9-c9d9-45b5-888e-ff0b2002580e\n",
      "/usr/local/lib/python3.10/dist-packages/xgboost/core.py:158: UserWarning: [04:13:57] WARNING: /workspace/src/learner.cc:740: \n",
      "Parameters: { \"use_label_encoder\" } are not used.\n",
      "\n",
      "  warnings.warn(smsg, UserWarning)\n"
     ]
    }
   ],
   "source": [
    "# Define the objective function for Optuna\n",
    "def objective(trial):\n",
    "    # Define the hyperparameter space\n",
    "    n_estimators = trial.suggest_int('n_estimators', 50, 200)\n",
    "    max_depth = trial.suggest_int('max_depth', 2, 10)\n",
    "    learning_rate = trial.suggest_float('learning_rate', 0.01, 0.3)\n",
    "\n",
    "    # Define the classifier with suggested hyperparameters\n",
    "    classifier = XGBClassifier(\n",
    "        use_label_encoder=False,\n",
    "        eval_metric='logloss',\n",
    "        n_estimators=n_estimators,\n",
    "        max_depth=max_depth,\n",
    "        learning_rate=learning_rate\n",
    "    )\n",
    "\n",
    "    # Train the classifier\n",
    "    classifier.fit(X_train, y_train)\n",
    "\n",
    "    # Predict on the validation set\n",
    "    y_pred = classifier.predict(X_test)\n",
    "\n",
    "    # Calculate accuracy\n",
    "    accuracy = accuracy_score(y_test, y_pred)\n",
    "    return accuracy\n",
    "\n",
    "# Create the Optuna study\n",
    "study = optuna.create_study(direction='maximize')\n",
    "\n",
    "# Optimize the study\n",
    "study.optimize(objective, n_trials=50)\n",
    "\n",
    "# Retrieve the best trial\n",
    "best_trial = study.best_trial\n",
    "print(\"Best Accuracy: {:.2f} %\".format(best_trial.value * 100))\n",
    "print(\"Best Parameters:\", best_trial.params)"
   ]
  },
  {
   "cell_type": "markdown",
   "metadata": {
    "id": "0MXkfqKBtUUf"
   },
   "source": [
    "After finding the optimal parameter set on Kaggle with 50 trials, the optimal parameter set {'n_estimators': 182, 'max_depth': 10, 'learning_rate': 0.19879820388928054} was found with an accuracy of 94.14%. This parameter set is used for the model."
   ]
  },
  {
   "cell_type": "code",
   "execution_count": 9,
   "metadata": {
    "executionInfo": {
     "elapsed": 2633137,
     "status": "ok",
     "timestamp": 1734406211285,
     "user": {
      "displayName": "Huyen Ngoc Nguyen",
      "userId": "15479791066207093999"
     },
     "user_tz": -420
    },
    "id": "erS7vnDzysOu"
   },
   "outputs": [],
   "source": [
    "classifier = XGBClassifier()\n",
    "\n",
    "optimized_params = {\n",
    "    'n_estimators': 182,\n",
    "    'max_depth': 10,\n",
    "    'learning_rate': 0.19879820388928054\n",
    "}\n",
    "\n",
    "# Tạo classifier với tham số tối ưu\n",
    "classifier = XGBClassifier(**optimized_params)\n",
    "classifier.fit(X_train, y_train)\n",
    "y_pred = classifier.predict(X_test)\n",
    "accuracy = accuracy_score(y_test, y_pred)\n",
    "\n",
    "\n"
   ]
  },
  {
   "cell_type": "markdown",
   "metadata": {
    "id": "Ur6M3u_1HjqO"
   },
   "source": [
    "Decode numerical labels back to text format for the classification report"
   ]
  },
  {
   "cell_type": "code",
   "execution_count": 12,
   "metadata": {
    "colab": {
     "base_uri": "https://localhost:8080/"
    },
    "executionInfo": {
     "elapsed": 21935,
     "status": "ok",
     "timestamp": 1734407079982,
     "user": {
      "displayName": "Huyen Ngoc Nguyen",
      "userId": "15479791066207093999"
     },
     "user_tz": -420
    },
    "id": "I2KdGe525z0b",
    "outputId": "e84a1974-0797-4c79-e2fa-847ed9c38b1c"
   },
   "outputs": [
    {
     "name": "stdout",
     "output_type": "stream",
     "text": [
      "Classification Report:\n",
      "                         precision    recall  f1-score   support\n",
      "\n",
      "       Backdoor_Malware     0.4836    0.2269    0.3088       454\n",
      "          BenignTraffic     0.8139    0.8775    0.8445     16749\n",
      "       BrowserHijacking     0.8516    0.5381    0.6595       853\n",
      "       CommandInjection     0.5638    0.3723    0.4484       736\n",
      " DDoS-ACK_Fragmentation     0.9990    0.9976    0.9983     16610\n",
      "        DDoS-HTTP_Flood     0.9859    0.9808    0.9833      4059\n",
      "        DDoS-ICMP_Flood     0.9999    0.9997    0.9998     16732\n",
      "DDoS-ICMP_Fragmentation     0.9983    0.9978    0.9981     16964\n",
      "      DDoS-PSHACK_Flood     1.0000    1.0000    1.0000     16815\n",
      "       DDoS-RSTFINFlood     1.0000    0.9998    0.9999     16866\n",
      "         DDoS-SYN_Flood     0.9452    0.9788    0.9617     16788\n",
      "         DDoS-SlowLoris     0.9785    0.9901    0.9843      3349\n",
      "DDoS-SynonymousIP_Flood     0.9894    0.9718    0.9805     16733\n",
      "         DDoS-TCP_Flood     0.9630    0.9851    0.9739     16773\n",
      "         DDoS-UDP_Flood     0.9773    0.9831    0.9802     16792\n",
      " DDoS-UDP_Fragmentation     0.9987    0.9985    0.9986     16706\n",
      "           DNS_Spoofing     0.7721    0.8170    0.7939     16643\n",
      "   DictionaryBruteForce     0.8691    0.5755    0.6925      1835\n",
      "         DoS-HTTP_Flood     0.9910    0.9935    0.9923     10065\n",
      "          DoS-SYN_Flood     0.9770    0.9580    0.9674     16787\n",
      "          DoS-TCP_Flood     0.9849    0.9622    0.9734     16916\n",
      "          DoS-UDP_Flood     0.9832    0.9769    0.9800     16997\n",
      "       MITM-ArpSpoofing     0.8849    0.8455    0.8647     16875\n",
      "     Mirai-greeth_flood     0.9982    0.9966    0.9974     16827\n",
      "      Mirai-greip_flood     0.9964    0.9970    0.9967     16841\n",
      "         Mirai-udpplain     0.9999    0.9992    0.9995     16595\n",
      "    Recon-HostDiscovery     0.8434    0.9076    0.8743     17178\n",
      "           Recon-OSScan     0.7561    0.7336    0.7447     13920\n",
      "        Recon-PingSweep     0.6789    0.2157    0.3274       343\n",
      "         Recon-PortScan     0.7346    0.7386    0.7366     11442\n",
      "           SqlInjection     0.7547    0.3753    0.5013       754\n",
      "       Uploading_Attack     0.4545    0.0872    0.1463       172\n",
      "      VulnerabilityScan     0.9855    0.9940    0.9897      5317\n",
      "                    XSS     0.3525    0.1697    0.2291       542\n",
      "\n",
      "               accuracy                         0.9414    390028\n",
      "              macro avg     0.8696    0.8012    0.8214    390028\n",
      "           weighted avg     0.9407    0.9414    0.9402    390028\n",
      "\n"
     ]
    }
   ],
   "source": [
    "#print(f\"Accuracy: {accuracy}\")\n",
    "\n",
    "# Generate and print classification report\n",
    "y_test_original = le.inverse_transform(y_test)\n",
    "y_pred_original = le.inverse_transform(y_pred)\n",
    "\n",
    "report = classification_report(y_test_original, y_pred_original, digits=4)\n",
    "print(\"Classification Report:\")\n",
    "print(report)\n"
   ]
  },
  {
   "cell_type": "markdown",
   "metadata": {
    "id": "Sr5k3YQ9rhZd"
   },
   "source": [
    "Export model"
   ]
  },
  {
   "cell_type": "code",
   "execution_count": 11,
   "metadata": {
    "executionInfo": {
     "elapsed": 2729,
     "status": "ok",
     "timestamp": 1734406402034,
     "user": {
      "displayName": "Huyen Ngoc Nguyen",
      "userId": "15479791066207093999"
     },
     "user_tz": -420
    },
    "id": "uP_RWIxyZ_fp"
   },
   "outputs": [],
   "source": [
    "joblib.dump(classifier, 'optimized_model.pkl')\n",
    "classifier.save_model('model.json')"
   ]
  }
 ],
 "metadata": {
  "accelerator": "TPU",
  "colab": {
   "authorship_tag": "ABX9TyOyqQVGQ6pnP+OjTuXih2UO",
   "gpuType": "V28",
   "mount_file_id": "1Kxtl7JORdVHo2y4Iej7xx4ANDTZz_B0e",
   "provenance": []
  },
  "kernelspec": {
   "display_name": "Python 3",
   "name": "python3"
  },
  "language_info": {
   "name": "python"
  }
 },
 "nbformat": 4,
 "nbformat_minor": 0
}
